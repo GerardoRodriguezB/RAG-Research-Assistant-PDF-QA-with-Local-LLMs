{
 "cells": [
  {
   "cell_type": "code",
   "execution_count": 1,
   "id": "9a6aeb3d-d175-43f3-a5a2-532f36f58e19",
   "metadata": {},
   "outputs": [],
   "source": [
    "import os\n",
    "import glob\n",
    "from pathlib import Path\n",
    "from tqdm.auto import tqdm\n",
    "import warnings\n",
    "warnings.filterwarnings('ignore')\n",
    "\n",
    "# LangChain imports\n",
    "from langchain.document_loaders import PyPDFLoader\n",
    "from langchain.text_splitter import RecursiveCharacterTextSplitter\n",
    "from langchain.embeddings import HuggingFaceEmbeddings\n",
    "from langchain.vectorstores import Chroma, FAISS\n",
    "from langchain.llms import Ollama\n",
    "from langchain.chains import RetrievalQA\n",
    "from langchain.schema import Document"
   ]
  },
  {
   "cell_type": "code",
   "execution_count": 2,
   "id": "38939b07-0cc4-410a-9b86-f6e14677ba0d",
   "metadata": {},
   "outputs": [],
   "source": [
    "class Config:\n",
    "    PDF_DIRECTORY = \"papers/\"  # Directory where PDF papers are stored\n",
    "    VECTOR_DB_PATH = \"./vector_db\"  # Directory where vectorial data base is stored\n",
    "    MODEL_NAME = \"llama3.2\"  # Ollama Model\n",
    "    EMBEDDING_MODEL = \"sentence-transformers/all-MiniLM-L6-v2\" # Embedding Model\n",
    "    CHUNK_SIZE = 1000 # Size for the chunk decomposition\n",
    "    CHUNK_OVERLAP = 200\n",
    "    SEARCH_K = 4  # number of chunks to retrieve\n",
    "\n",
    "config = Config()\n"
   ]
  },
  {
   "cell_type": "code",
   "execution_count": 3,
   "id": "038fa348-0a26-4b0f-a6c9-1d946748dc5d",
   "metadata": {},
   "outputs": [],
   "source": [
    "class ResearchAssistant:\n",
    "    def __init__(self, config):\n",
    "        self.config = config\n",
    "        self.vectorstore = None\n",
    "        self.qa_chain = None\n",
    "        self.setup_embeddings()\n",
    "        \n",
    "    def setup_embeddings(self):\n",
    "        \"\"\"Configures model embeddings\"\"\"\n",
    "        self.embeddings = HuggingFaceEmbeddings(\n",
    "            model_name=self.config.EMBEDDING_MODEL,\n",
    "            model_kwargs={'device': 'cuda'},  # Use 'cuda' if you have a GPU, otherwise use 'cpu'\n",
    "            encode_kwargs={'normalize_embeddings': True}\n",
    "        )\n",
    "        print(f\"Embeddings correctly configured: {self.config.EMBEDDING_MODEL}\")\n",
    "    \n",
    "    def load_and_process_pdfs(self):\n",
    "        \"\"\"Load and process all the PDFs in the directory\"\"\"\n",
    "        pdf_files = glob.glob(os.path.join(self.config.PDF_DIRECTORY, \"*.pdf\"))\n",
    "        \n",
    "        if not pdf_files:\n",
    "            raise ValueError(f\"PDFs not found in {self.config.PDF_DIRECTORY}\")\n",
    "        \n",
    "        print(f\"{len(pdf_files)} PDF files found\")\n",
    "        \n",
    "        all_documents = []\n",
    "        for pdf_file in tqdm(pdf_files, desc=\"Processing PDFs\"):\n",
    "            try:\n",
    "                loader = PyPDFLoader(pdf_file)\n",
    "                documents = loader.load()\n",
    "                \n",
    "                # Add file's metadata\n",
    "                for doc in documents:\n",
    "                    doc.metadata['source_file'] = os.path.basename(pdf_file)\n",
    "                \n",
    "                all_documents.extend(documents)\n",
    "                print(f\"✓ {os.path.basename(pdf_file)}: {len(documents)} pages\")\n",
    "                \n",
    "            except Exception as e:\n",
    "                print(f\"✗ Error with {pdf_file}: {str(e)}\")\n",
    "        \n",
    "        return all_documents\n",
    "    \n",
    "    def split_documents(self, documents):\n",
    "        \"\"\"Divide the documents in chunks\"\"\"\n",
    "        text_splitter = RecursiveCharacterTextSplitter(\n",
    "            chunk_size=self.config.CHUNK_SIZE,\n",
    "            chunk_overlap=self.config.CHUNK_OVERLAP,\n",
    "            length_function=len,\n",
    "        )\n",
    "        \n",
    "        chunks = text_splitter.split_documents(documents)\n",
    "        print(f\"Documents divided in {len(chunks)} chunks\")\n",
    "        return chunks\n",
    "    \n",
    "    def create_vectorstore(self, chunks, use_chroma=True):\n",
    "        \"\"\"Create the vectorial database\"\"\"\n",
    "        if use_chroma:\n",
    "            self.vectorstore = Chroma.from_documents(\n",
    "                documents=chunks,\n",
    "                embedding=self.embeddings,\n",
    "                persist_directory=self.config.VECTOR_DB_PATH\n",
    "            )\n",
    "            self.vectorstore.persist()\n",
    "        else:\n",
    "            self.vectorstore = FAISS.from_documents(chunks, self.embeddings)\n",
    "            self.vectorstore.save_local(self.config.VECTOR_DB_PATH)\n",
    "        \n",
    "        print(\"Vector store created and saved\")\n",
    "        return self.vectorstore\n",
    "    \n",
    "    def load_vectorstore(self, use_chroma=True):\n",
    "        \"\"\"Load an existent vectorstore\"\"\"\n",
    "        if use_chroma:\n",
    "            self.vectorstore = Chroma(\n",
    "                persist_directory=self.config.VECTOR_DB_PATH,\n",
    "                embedding_function=self.embeddings\n",
    "            )\n",
    "        else:\n",
    "            self.vectorstore = FAISS.load_local(\n",
    "                self.config.VECTOR_DB_PATH, \n",
    "                self.embeddings, \n",
    "                allow_dangerous_deserialization=True\n",
    "            )\n",
    "        print(\"Vector store loaded\")\n",
    "        return self.vectorstore\n",
    "    \n",
    "    def setup_qa_chain(self):\n",
    "        \"\"\"Configure the string question-answer\"\"\"\n",
    "        if not self.vectorstore:\n",
    "            raise ValueError(\"Create or load vectorstore first\")\n",
    "        \n",
    "        retriever = self.vectorstore.as_retriever(\n",
    "            search_type=\"similarity\",\n",
    "            search_kwargs={\"k\": self.config.SEARCH_K}\n",
    "        )\n",
    "        \n",
    "        # Initialize the Ollama model\n",
    "        llm = Ollama(\n",
    "            model=self.config.MODEL_NAME,\n",
    "            temperature=0.1,  # Low temperatrure for precisse answers\n",
    "            num_ctx=4096  # Wide context\n",
    "        )\n",
    "        \n",
    "        self.qa_chain = RetrievalQA.from_chain_type(\n",
    "            llm=llm,\n",
    "            chain_type=\"stuff\",\n",
    "            retriever=retriever,\n",
    "            return_source_documents=True,\n",
    "            chain_type_kwargs={\"verbose\": False}\n",
    "        )\n",
    "        \n",
    "        print(\"QA configured correctly\")\n",
    "        return self.qa_chain\n",
    "    \n",
    "    def ask_question(self, question, verbose=False):\n",
    "        \"\"\"Makes a question to the assistant\"\"\"\n",
    "        if not self.qa_chain:\n",
    "            raise ValueError(\"Configure the QA first\")\n",
    "        \n",
    "        result = self.qa_chain.invoke({\"query\": question})\n",
    "        \n",
    "        if verbose:\n",
    "            print(f\"Question: {question}\")\n",
    "            print(f\"Answer: {result['result']}\")\n",
    "            print(\"\\nSources consulted:\")\n",
    "            for i, doc in enumerate(result['source_documents']):\n",
    "                print(f\"{i+1}. {doc.metadata['source_file']} - Page {doc.metadata.get('page', 'N/A')}\")\n",
    "            print(\"=\" * 60)\n",
    "        \n",
    "        return result"
   ]
  },
  {
   "cell_type": "code",
   "execution_count": 4,
   "id": "52ff3468-9698-43f2-a1dd-643dda3a3178",
   "metadata": {},
   "outputs": [
    {
     "name": "stderr",
     "output_type": "stream",
     "text": [
      "C:\\Users\\Gerardo\\AppData\\Local\\Temp\\ipykernel_31580\\1995454725.py:10: LangChainDeprecationWarning: The class `HuggingFaceEmbeddings` was deprecated in LangChain 0.2.2 and will be removed in 1.0. An updated version of the class exists in the :class:`~langchain-huggingface package and should be used instead. To use it run `pip install -U :class:`~langchain-huggingface` and import as `from :class:`~langchain_huggingface import HuggingFaceEmbeddings``.\n",
      "  self.embeddings = HuggingFaceEmbeddings(\n"
     ]
    },
    {
     "name": "stdout",
     "output_type": "stream",
     "text": [
      "Embeddings correctly configured: sentence-transformers/all-MiniLM-L6-v2\n"
     ]
    }
   ],
   "source": [
    "assistant = ResearchAssistant(config)"
   ]
  },
  {
   "cell_type": "code",
   "execution_count": 5,
   "id": "7ddb1e61-06f7-4691-987b-9a9cd15b5539",
   "metadata": {},
   "outputs": [
    {
     "name": "stdout",
     "output_type": "stream",
     "text": [
      "PDF files found:\n",
      "  - 2022 Roadmap on integrated quantum photonics.pdf\n",
      "  - 4H-SiC microring resonators for nonlinear integrated photonics.pdf\n",
      "  - A solid-state light–matter interface at the single-photon level.pdf\n",
      "  - An integrated photonic circuit for color qubit preparation by third‑order nonlinear interactions.pdf\n",
      "  - An Introduction to Quantum Computing for Non-Physicists.pdf\n",
      "  - Analysis of the Steady-state and Switch-on Characteristics of a Nonlinear Fibre Optic Ring Resonator.pdf\n",
      "  - Analytical Approaches to the Description of Optical Microresonator Devices.pdf\n",
      "  - Approaches for a quantum memory at telecommunication wavelengths.pdf\n",
      "  - Bi-photon spectral correlation measurements from a silicon nanowire in the quantum and classical regimes.pdf\n",
      "  - Broadband waveguide quantum memory for entangled photons.pdf\n",
      "  - Characterizing and tailoring the spectro-temporal mode of photon pairs generated in few-mode fiber.pdf\n",
      "  - Chip-integrated visible–telecom entangled photon pair source for quantum communication - Supplementary.pdf\n",
      "  - Chip-integrated visible–telecom entangled photon pair source for quantum communication.pdf\n",
      "  - Chip-scale nonlinear photonics for quantum light generation.pdf\n",
      "  - Comparison of Coupled Mode Theory and FDTD Simulations of Coupling between Bent and Straight Optical Waveguides.pdf\n",
      "  - Conversion efficiency in the process of copolarized spontaneous four-wave mixing.pdf\n",
      "  - Counter-propagating spontaneous four wave mixing photon-pair factorability and ultra-narrowband single photons.pdf\n",
      "  - Cross-polarized photon-pair generation and bi-chromatically pumped optical parametric oscillation on a chip.pdf\n",
      "  - Design considerations for high-purity heralded single-photon sources.pdf\n",
      "  - Direct Characterization of Ultrafast Energy-Time Entangled Photon Pairs.pdf\n",
      "  - Dispersion engineering and measurement of whispering gallery mode microresonator for Kerr frequency comb generation.pdf\n",
      "  - Eliminating frequency and space-time correlations in multiphoton states.pdf\n",
      "  - Energy correlations of photon pairs generated by a silicon microring resonator probed by Stimulated Four Wave Mixing.pdf\n",
      "  - Entangled quantum systems and the Schmidt decomposition.pdf\n",
      "  - Entanglement quantification and purification in continuous-variable systems.pdf\n",
      "  - Entanglement-enhanced probing of a delicate material system.pdf\n",
      "  - Entangling Different-Color Photons via Time-Resolved Measurement and Active Feed Forward.pdf\n",
      "  - Fiber-based photon-pair generation tutorial.pdf\n",
      "  - Four wave mixing in 3C SiC ring resonators.pdf\n",
      "  - From Cbits to Qbits Teaching computer scientists quantum mechanics.pdf\n",
      "  - Generation of counterpropagating and spectrally uncorrelated photon-pair states by spontaneous four-wave mixing in photonic crystal waveguides.pdf\n",
      "  - Generation of Pure-State Single-Photon Wavepackets by Conditional Preparation Based on Spontaneous Parametric Downconversion.pdf\n",
      "  - Gigahertz-bandwidth optical memory in Pr3 CY2SiO5.pdf\n",
      "  - Gigahertz-Bandwidth Optical Memory in Pr3 Y2SiO5.pdf\n",
      "  - Heralded Generation of Ultrafast Single Photons in Pure Quantum States.pdf\n",
      "  - High efficiency four wave mixing and optical bistability in amorphous silicon carbide ring resonators.pdf\n",
      "  - High Spectral Purity Silicon Ring Resonator Photon-Pair Source.pdf\n",
      "  - High-Q microresonators on 4H-silicon-carbide-oninsulator platform for nonlinear photonics.pdf\n",
      "  - Hong-Ou-Mandel Interference.pdf\n",
      "  - Hong–Ou–Mandel interference linking independent room-temperature quantum memories.pdf\n",
      "  - InP based photonic integrated circuit platform on SiC wafer.pdf\n",
      "  - Integrated Optical Memory Based on Laser-Written Waveguides.pdf\n",
      "  - Integrated sources of photon quantum states based on nonlinear optics.pdf\n",
      "  - Joint spectral amplitude analysis of SPDC photon pairs in a multimode ppLN ridge waveguide.pdf\n",
      "  - Joint spectral characterization of photon-pair sources.pdf\n",
      "  - Joint Spectral Intensity of 1.55 μm photon-pairs generated.pdf\n",
      "  - Laser-written integrated platform for quantum storage of heralded single photons.pdf\n",
      "  - Linear optical quantum computing with photonic qubits.pdf\n",
      "  - Measurement of the spectral properties of the twophoton state generated via type II spontaneous parametric downconversion.pdf\n",
      "  - Multifrequency sources of quantum correlated photon pairs on-chip a path toward integrated Quantum Frequency Combs.pdf\n",
      "  - Multimode capacity of atomic-frequency comb quantum memories.pdf\n",
      "  - Multimode quantum memory based on atomic frequency combs.pdf\n",
      "  - Nonlinear modeling of the photon pair generation in ring resonators.pdf\n",
      "  - Observing the quantum behavior of light in an undergraduate laboratory.pdf\n",
      "  - On chip Quantum Memories at Telecom in Er3 Resonators.pdf\n",
      "  - On-chip generation of high-dimensional entangled quantum states and their coherent control.pdf\n",
      "  - On-chip heralded single photon sources.pdf\n",
      "  - On-chip low loss heralded source of pure single photons.pdf\n",
      "  - On-chip photon-number-resolving telecommunication-band detectors for scalable photonic information processing.pdf\n",
      "  - On-Chip Quantum Interference from a Single Silicon Ring-Resonator Source.pdf\n",
      "  - One-hour coherent optical storage in an atomic frequency comb memory.pdf\n",
      "  - Optical quantum memory.pdf\n",
      "  - Persistent energy–time entanglement covering multiple resonances of an on-chip biphoton frequency comb.pdf\n",
      "  - Photon echo without a free induction decay in a double-Λ system.pdf\n",
      "  - Photon pair generation from compact silicon microring resonators using microwatt-level pump powers.pdf\n",
      "  - Photon pair generation in birefringent optical fibers.pdf\n",
      "  - Photon pair-state preparation with tailored spectral properties by spontaneous four-wave mixing in photonic-crystal fiber.pdf\n",
      "  - Photon-pair generation in a lossy waveguide.pdf\n",
      "  - Quantum Information processing with integrated silicon carbide photonics.pdf\n",
      "  - Quantum key distribution over 122 km of standard telecom fiber.pdf\n",
      "  - Quantum memories emerging applications and recent advances.pdf\n",
      "  - Quantum memories.pdf\n",
      "  - Quantum repeaters based on atomic ensembles and linear optics.pdf\n",
      "  - Quantum storage of entangled telecom-wavelength photons in an erbium-doped optical fibre.pdf\n",
      "  - Quantum teleportation over 143 kilometres using active feed-forward.pdf\n",
      "  - Qubit entanglement between ring-resonator photon-pair sources on a silicon chip.pdf\n",
      "  - Room temperature caesium quantum memory for quantum information applications.pdf\n",
      "  - Silica-on-Silicon Waveguide Quantum Circuits.pdf\n",
      "  - Single photon sources.pdf\n",
      "  - Solid State Spin-Wave Quantum Memory for Time-Bin Qubits.pdf\n",
      "  - Storage and analysis of light matter entaglement in a fibre integrated system.pdf\n",
      "  - Storage and analysis of light-matter entanglement in a fiber-integrated system.pdf\n",
      "  - Sub-megahertz narrow-band photon 606 nm for solid state quantum memories.pdf\n",
      "  - Sub-megahertz narrow-band photon pairs at 606 nm for solid-state quantum memories.pdf\n",
      "  - Submegahertz spectral width photon pair source based on fused silica microspheres.pdf\n",
      "  - The SECOQC quantum key distribution network in Vienna.pdf\n",
      "  - Theory of cavity-enhanced spontaneous four wave mixing.pdf\n",
      "  - Theory of two-photon entanglement in type-II optical parametric down-conversion.pdf\n",
      "  - Time-bin entangled photon pair generation from Si micro-ring resonator.pdf\n",
      "  - Two-photon interference the Hong–Ou–Mandel effect.pdf\n",
      "  - Ultranarrow-Band Photon-Pair Source Compatible with Solid State Quantum Memories and Telecommunication Networks.pdf\n",
      "  - Wavelength conversion in GaAs micro-ring resonators.pdf\n",
      "  - What are single photons good for .pdf\n"
     ]
    }
   ],
   "source": [
    "pdf_files = glob.glob(os.path.join(config.PDF_DIRECTORY, \"*.pdf\"))\n",
    "print(\"PDF files found:\")\n",
    "for pdf in pdf_files:\n",
    "    print(f\"  - {os.path.basename(pdf)}\")"
   ]
  },
  {
   "cell_type": "code",
   "execution_count": 6,
   "id": "05341d0d-172c-47b5-aef2-7b37f34c2f81",
   "metadata": {},
   "outputs": [
    {
     "name": "stdout",
     "output_type": "stream",
     "text": [
      "Processing PDFs...\n",
      "93 PDF files found\n"
     ]
    },
    {
     "data": {
      "application/vnd.jupyter.widget-view+json": {
       "model_id": "5f2fabd624b847d385aaad132a07ecd2",
       "version_major": 2,
       "version_minor": 0
      },
      "text/plain": [
       "Processing PDFs:   0%|          | 0/93 [00:00<?, ?it/s]"
      ]
     },
     "metadata": {},
     "output_type": "display_data"
    },
    {
     "name": "stdout",
     "output_type": "stream",
     "text": [
      "✓ 2022 Roadmap on integrated quantum photonics.pdf: 86 pages\n",
      "✓ 4H-SiC microring resonators for nonlinear integrated photonics.pdf: 4 pages\n",
      "✓ A solid-state light–matter interface at the single-photon level.pdf: 5 pages\n",
      "✓ An integrated photonic circuit for color qubit preparation by third‑order nonlinear interactions.pdf: 12 pages\n",
      "✓ An Introduction to Quantum Computing for Non-Physicists.pdf: 36 pages\n",
      "✓ Analysis of the Steady-state and Switch-on Characteristics of a Nonlinear Fibre Optic Ring Resonator.pdf: 10 pages\n",
      "✓ Analytical Approaches to the Description of Optical Microresonator Devices.pdf: 27 pages\n",
      "✓ Approaches for a quantum memory at telecommunication wavelengths.pdf: 12 pages\n",
      "✓ Bi-photon spectral correlation measurements from a silicon nanowire in the quantum and classical regimes.pdf: 9 pages\n",
      "✓ Broadband waveguide quantum memory for entangled photons.pdf: 4 pages\n",
      "✓ Characterizing and tailoring the spectro-temporal mode of photon pairs generated in few-mode fiber.pdf: 5 pages\n",
      "✓ Chip-integrated visible–telecom entangled photon pair source for quantum communication - Supplementary.pdf: 13 pages\n",
      "✓ Chip-integrated visible–telecom entangled photon pair source for quantum communication.pdf: 10 pages\n",
      "✓ Chip-scale nonlinear photonics for quantum light generation.pdf: 21 pages\n",
      "✓ Comparison of Coupled Mode Theory and FDTD Simulations of Coupling between Bent and Straight Optical Waveguides.pdf: 15 pages\n",
      "✓ Conversion efficiency in the process of copolarized spontaneous four-wave mixing.pdf: 11 pages\n",
      "✓ Counter-propagating spontaneous four wave mixing photon-pair factorability and ultra-narrowband single photons.pdf: 18 pages\n",
      "✓ Cross-polarized photon-pair generation and bi-chromatically pumped optical parametric oscillation on a chip.pdf: 7 pages\n",
      "✓ Design considerations for high-purity heralded single-photon sources.pdf: 12 pages\n",
      "✓ Direct Characterization of Ultrafast Energy-Time Entangled Photon Pairs.pdf: 6 pages\n",
      "✓ Dispersion engineering and measurement of whispering gallery mode microresonator for Kerr frequency comb generation.pdf: 18 pages\n",
      "✓ Eliminating frequency and space-time correlations in multiphoton states.pdf: 7 pages\n",
      "✓ Energy correlations of photon pairs generated by a silicon microring resonator probed by Stimulated Four Wave Mixing.pdf: 6 pages\n",
      "✓ Entangled quantum systems and the Schmidt decomposition.pdf: 10 pages\n",
      "✓ Entanglement quantification and purification in continuous-variable systems.pdf: 8 pages\n",
      "✓ Entanglement-enhanced probing of a delicate material system.pdf: 5 pages\n",
      "✓ Entangling Different-Color Photons via Time-Resolved Measurement and Active Feed Forward.pdf: 5 pages\n",
      "✓ Fiber-based photon-pair generation tutorial.pdf: 22 pages\n",
      "✓ Four wave mixing in 3C SiC ring resonators.pdf: 5 pages\n",
      "✓ From Cbits to Qbits Teaching computer scientists quantum mechanics.pdf: 8 pages\n",
      "✓ Generation of counterpropagating and spectrally uncorrelated photon-pair states by spontaneous four-wave mixing in photonic crystal waveguides.pdf: 13 pages\n",
      "✓ Generation of Pure-State Single-Photon Wavepackets by Conditional Preparation Based on Spontaneous Parametric Downconversion.pdf: 16 pages\n",
      "✓ Gigahertz-bandwidth optical memory in Pr3 CY2SiO5.pdf: 4 pages\n",
      "✓ Gigahertz-Bandwidth Optical Memory in Pr3 Y2SiO5.pdf: 10 pages\n",
      "✓ Heralded Generation of Ultrafast Single Photons in Pure Quantum States.pdf: 4 pages\n",
      "✓ High efficiency four wave mixing and optical bistability in amorphous silicon carbide ring resonators.pdf: 7 pages\n",
      "✓ High Spectral Purity Silicon Ring Resonator Photon-Pair Source.pdf: 5 pages\n",
      "✓ High-Q microresonators on 4H-silicon-carbide-oninsulator platform for nonlinear photonics.pdf: 11 pages\n",
      "✓ Hong-Ou-Mandel Interference.pdf: 17 pages\n",
      "✓ Hong–Ou–Mandel interference linking independent room-temperature quantum memories.pdf: 6 pages\n",
      "✓ InP based photonic integrated circuit platform on SiC wafer.pdf: 8 pages\n",
      "✓ Integrated Optical Memory Based on Laser-Written Waveguides.pdf: 7 pages\n",
      "✓ Integrated sources of photon quantum states based on nonlinear optics.pdf: 12 pages\n",
      "✓ Joint spectral amplitude analysis of SPDC photon pairs in a multimode ppLN ridge waveguide.pdf: 8 pages\n",
      "✓ Joint spectral characterization of photon-pair sources.pdf: 21 pages\n",
      "✓ Joint Spectral Intensity of 1.55 μm photon-pairs generated.pdf: 2 pages\n",
      "✓ Laser-written integrated platform for quantum storage of heralded single photons.pdf: 8 pages\n",
      "✓ Linear optical quantum computing with photonic qubits.pdf: 40 pages\n",
      "✓ Measurement of the spectral properties of the twophoton state generated via type II spontaneous parametric downconversion.pdf: 3 pages\n",
      "✓ Multifrequency sources of quantum correlated photon pairs on-chip a path toward integrated Quantum Frequency Combs.pdf: 12 pages\n",
      "✓ Multimode capacity of atomic-frequency comb quantum memories.pdf: 18 pages\n",
      "✓ Multimode quantum memory based on atomic frequency combs.pdf: 9 pages\n",
      "✓ Nonlinear modeling of the photon pair generation in ring resonators.pdf: 7 pages\n",
      "✓ Observing the quantum behavior of light in an undergraduate laboratory.pdf: 11 pages\n",
      "✓ On chip Quantum Memories at Telecom in Er3 Resonators.pdf: 55 pages\n",
      "✓ On-chip generation of high-dimensional entangled quantum states and their coherent control.pdf: 10 pages\n",
      "✓ On-chip heralded single photon sources.pdf: 27 pages\n",
      "✓ On-chip low loss heralded source of pure single photons.pdf: 11 pages\n",
      "✓ On-chip photon-number-resolving telecommunication-band detectors for scalable photonic information processing.pdf: 4 pages\n",
      "✓ On-Chip Quantum Interference from a Single Silicon Ring-Resonator Source.pdf: 5 pages\n",
      "✓ One-hour coherent optical storage in an atomic frequency comb memory.pdf: 6 pages\n",
      "✓ Optical quantum memory.pdf: 9 pages\n",
      "✓ Persistent energy–time entanglement covering multiple resonances of an on-chip biphoton frequency comb.pdf: 4 pages\n",
      "✓ Photon echo without a free induction decay in a double-Λ system.pdf: 3 pages\n",
      "✓ Photon pair generation from compact silicon microring resonators using microwatt-level pump powers.pdf: 16 pages\n",
      "✓ Photon pair generation in birefringent optical fibers.pdf: 14 pages\n",
      "✓ Photon pair-state preparation with tailored spectral properties by spontaneous four-wave mixing in photonic-crystal fiber.pdf: 17 pages\n",
      "✓ Photon-pair generation in a lossy waveguide.pdf: 8 pages\n",
      "✓ Quantum Information processing with integrated silicon carbide photonics.pdf: 50 pages\n",
      "✓ Quantum key distribution over 122 km of standard telecom fiber.pdf: 4 pages\n",
      "✓ Quantum memories emerging applications and recent advances.pdf: 25 pages\n",
      "✓ Quantum memories.pdf: 22 pages\n",
      "✓ Quantum repeaters based on atomic ensembles and linear optics.pdf: 48 pages\n",
      "✓ Quantum storage of entangled telecom-wavelength photons in an erbium-doped optical fibre.pdf: 5 pages\n",
      "✓ Quantum teleportation over 143 kilometres using active feed-forward.pdf: 5 pages\n",
      "✓ Qubit entanglement between ring-resonator photon-pair sources on a silicon chip.pdf: 7 pages\n",
      "✓ Room temperature caesium quantum memory for quantum information applications.pdf: 435 pages\n",
      "✓ Silica-on-Silicon Waveguide Quantum Circuits.pdf: 5 pages\n",
      "✓ Single photon sources.pdf: 52 pages\n",
      "✓ Solid State Spin-Wave Quantum Memory for Time-Bin Qubits.pdf: 5 pages\n",
      "✓ Storage and analysis of light matter entaglement in a fibre integrated system.pdf: 5 pages\n",
      "✓ Storage and analysis of light-matter entanglement in a fiber-integrated system.pdf: 7 pages\n",
      "✓ Sub-megahertz narrow-band photon 606 nm for solid state quantum memories.pdf: 8 pages\n",
      "✓ Sub-megahertz narrow-band photon pairs at 606 nm for solid-state quantum memories.pdf: 8 pages\n",
      "✓ Submegahertz spectral width photon pair source based on fused silica microspheres.pdf: 16 pages\n",
      "✓ The SECOQC quantum key distribution network in Vienna.pdf: 38 pages\n"
     ]
    },
    {
     "name": "stderr",
     "output_type": "stream",
     "text": [
      "Ignoring wrong pointing object 2 65536 (offset 0)\n",
      "Ignoring wrong pointing object 9 65536 (offset 0)\n",
      "Ignoring wrong pointing object 15 65536 (offset 0)\n",
      "Ignoring wrong pointing object 21 65536 (offset 0)\n",
      "Ignoring wrong pointing object 27 65536 (offset 0)\n",
      "Ignoring wrong pointing object 33 65536 (offset 0)\n",
      "Ignoring wrong pointing object 39 65536 (offset 0)\n",
      "Ignoring wrong pointing object 45 65536 (offset 0)\n",
      "Ignoring wrong pointing object 51 65536 (offset 0)\n",
      "Ignoring wrong pointing object 57 65536 (offset 0)\n",
      "Ignoring wrong pointing object 63 65536 (offset 0)\n",
      "Ignoring wrong pointing object 69 65536 (offset 0)\n"
     ]
    },
    {
     "name": "stdout",
     "output_type": "stream",
     "text": [
      "✓ Theory of cavity-enhanced spontaneous four wave mixing.pdf: 12 pages\n",
      "✓ Theory of two-photon entanglement in type-II optical parametric down-conversion.pdf: 12 pages\n",
      "✓ Time-bin entangled photon pair generation from Si micro-ring resonator.pdf: 11 pages\n",
      "✓ Two-photon interference the Hong–Ou–Mandel effect.pdf: 26 pages\n",
      "✓ Ultranarrow-Band Photon-Pair Source Compatible with Solid State Quantum Memories and Telecommunication Networks.pdf: 5 pages\n",
      "✓ Wavelength conversion in GaAs micro-ring resonators.pdf: 3 pages\n",
      "✓ What are single photons good for .pdf: 8 pages\n",
      "Documents divided in 8068 chunks\n",
      "Vector store created and saved\n"
     ]
    },
    {
     "name": "stderr",
     "output_type": "stream",
     "text": [
      "C:\\Users\\Gerardo\\AppData\\Local\\Temp\\ipykernel_31580\\1995454725.py:64: LangChainDeprecationWarning: Since Chroma 0.4.x the manual persistence method is no longer supported as docs are automatically persisted.\n",
      "  self.vectorstore.persist()\n"
     ]
    }
   ],
   "source": [
    "print(\"Processing PDFs...\")\n",
    "documents = assistant.load_and_process_pdfs()\n",
    "chunks = assistant.split_documents(documents)\n",
    "vectorstore = assistant.create_vectorstore(chunks, use_chroma=True)"
   ]
  },
  {
   "cell_type": "code",
   "execution_count": 7,
   "id": "6b3fcc6c-82bb-409e-bfba-8f0cbf9d38ec",
   "metadata": {
    "scrolled": true
   },
   "outputs": [
    {
     "name": "stdout",
     "output_type": "stream",
     "text": [
      "QA configured correctly\n",
      "Configuration complete\n",
      "Model: llama3.2\n",
      "PDFs loaded: 93\n",
      "PDFs Directory: C:\\Users\\Gerardo\\Documents\\LLM\\RAG\\papers\n"
     ]
    },
    {
     "name": "stderr",
     "output_type": "stream",
     "text": [
      "C:\\Users\\Gerardo\\AppData\\Local\\Temp\\ipykernel_31580\\1995454725.py:99: LangChainDeprecationWarning: The class `Ollama` was deprecated in LangChain 0.3.1 and will be removed in 1.0.0. An updated version of the class exists in the :class:`~langchain-ollama package and should be used instead. To use it run `pip install -U :class:`~langchain-ollama` and import as `from :class:`~langchain_ollama import OllamaLLM``.\n",
      "  llm = Ollama(\n"
     ]
    }
   ],
   "source": [
    "assistant.setup_qa_chain()\n",
    "\n",
    "print(\"Configuration complete\")\n",
    "print(f\"Model: {config.MODEL_NAME}\")\n",
    "print(f\"PDFs loaded: {len(pdf_files)}\")\n",
    "print(f\"PDFs Directory: {os.path.abspath(config.PDF_DIRECTORY)}\")"
   ]
  },
  {
   "cell_type": "code",
   "execution_count": 8,
   "id": "90d6e78d-ef65-47d2-a190-1eb89bf8dea6",
   "metadata": {},
   "outputs": [],
   "source": [
    "questions = [\n",
    "    \"Why are microresonators useful?\",\n",
    "    \"Quantum memories have been implemented?\",\n",
    "    \"What is counter propagating SFWM?\"\n",
    "]"
   ]
  },
  {
   "cell_type": "code",
   "execution_count": 9,
   "id": "f74e5d92-d3d5-4ab0-abee-f1768a597362",
   "metadata": {},
   "outputs": [
    {
     "name": "stdout",
     "output_type": "stream",
     "text": [
      "Question: Quantum memories have been implemented?\n",
      "Answer: Yes, quantum memories have been implemented. For example, experimental demonstrations of memory-enhanced quantum communication were performed in Nature (2020) and other publications. Additionally, a review based on the European integrated project \"Qubit Applications\" discussed the implementation of quantum memories.\n",
      "\n",
      "Sources consulted:\n",
      "1. Room temperature caesium quantum memory for quantum information applications.pdf - Page 11\n",
      "2. Quantum Information processing with integrated silicon carbide photonics.pdf - Page 27\n",
      "3. Gigahertz-Bandwidth Optical Memory in Pr3 Y2SiO5.pdf - Page 6\n",
      "4. Quantum memories.pdf - Page 0\n",
      "============================================================\n"
     ]
    }
   ],
   "source": [
    "response = assistant.ask_question(questions[1], verbose=True)"
   ]
  },
  {
   "cell_type": "code",
   "execution_count": 10,
   "id": "8c6ac792-2687-423b-8390-fd7fbcfa8c40",
   "metadata": {},
   "outputs": [],
   "source": [
    "def interactive_chat(assistant):\n",
    "    print(\"Interactive mode - Research assistant\")\n",
    "    print(\"Type 'quit' to exit or 'reset' to start a new conversation\")\n",
    "    print(\"=\" * 60)\n",
    "    \n",
    "    while True:\n",
    "        question = input(\"\\nQuestion: \").strip()\n",
    "        \n",
    "        if question.lower() == 'quit':\n",
    "            break\n",
    "        if question.lower() == 'reset':\n",
    "            print(\"Conversation reset\")\n",
    "            continue\n",
    "        if not question:\n",
    "            continue\n",
    "        \n",
    "        try:\n",
    "            response = assistant.ask_question(question, verbose=True)\n",
    "        except Exception as e:\n",
    "            print(f\"Error: {str(e)}\")"
   ]
  },
  {
   "cell_type": "code",
   "execution_count": 11,
   "id": "14f0afeb-72e9-41e8-afb7-3c0e5483b31d",
   "metadata": {},
   "outputs": [
    {
     "name": "stdout",
     "output_type": "stream",
     "text": [
      "Interactive mode - Research assistant\n",
      "Type 'quit' to exit or 'reset' to start a new conversation\n",
      "============================================================\n"
     ]
    },
    {
     "name": "stdin",
     "output_type": "stream",
     "text": [
      "\n",
      "Question:  Why are microresonators useful?\n"
     ]
    },
    {
     "name": "stdout",
     "output_type": "stream",
     "text": [
      "Question: Why are microresonators useful?\n",
      "Answer: Microresonators are useful because they greatly enhance light-matter interaction by spatially or temporally confining and enhancing radiation by several orders of magnitude. This is particularly true for highly nonlinear materials, such as silicon or III-V compounds, where cavities offer extreme enhancements in efficiency that can result in parametric fluorescence with pump powers on the order of microwatts only.\n",
      "\n",
      "Sources consulted:\n",
      "1. 2022 Roadmap on integrated quantum photonics.pdf - Page 48\n",
      "2. Integrated sources of photon quantum states based on nonlinear optics.pdf - Page 6\n",
      "3. Dispersion engineering and measurement of whispering gallery mode microresonator for Kerr frequency comb generation.pdf - Page 5\n",
      "4. Photon pair generation from compact silicon microring resonators using microwatt-level pump powers.pdf - Page 13\n",
      "============================================================\n"
     ]
    },
    {
     "name": "stdin",
     "output_type": "stream",
     "text": [
      "\n",
      "Question:  What is counter propagating SFWM?\n"
     ]
    },
    {
     "name": "stdout",
     "output_type": "stream",
     "text": [
      "Question: What is counter propagating SFWM?\n",
      "Answer: Counter-propagating SFWM (Second-Order Frequency Conversion) refers to a type of Superfluorescent White Light Emission (SFWM) process where two pump photons are launched from opposite ends of the nonlinear medium, such as a fiber or waveguide. In this process, one daughter photon (signal) is emitted in a direction that backpropagates with respect to one of the pumps, while the conjugate idler photon backpropagates with respect to the other pump.\n",
      "\n",
      "Sources consulted:\n",
      "1. Fiber-based photon-pair generation tutorial.pdf - Page 8\n",
      "2. Counter-propagating spontaneous four wave mixing photon-pair factorability and ultra-narrowband single photons.pdf - Page 2\n",
      "3. Counter-propagating spontaneous four wave mixing photon-pair factorability and ultra-narrowband single photons.pdf - Page 2\n",
      "4. Counter-propagating spontaneous four wave mixing photon-pair factorability and ultra-narrowband single photons.pdf - Page 6\n",
      "============================================================\n"
     ]
    },
    {
     "name": "stdin",
     "output_type": "stream",
     "text": [
      "\n",
      "Question:  quit\n"
     ]
    }
   ],
   "source": [
    "interactive_chat(assistant)"
   ]
  }
 ],
 "metadata": {
  "kernelspec": {
   "display_name": "RAG",
   "language": "python",
   "name": "rag"
  },
  "language_info": {
   "codemirror_mode": {
    "name": "ipython",
    "version": 3
   },
   "file_extension": ".py",
   "mimetype": "text/x-python",
   "name": "python",
   "nbconvert_exporter": "python",
   "pygments_lexer": "ipython3",
   "version": "3.10.18"
  }
 },
 "nbformat": 4,
 "nbformat_minor": 5
}
